{
 "cells": [
  {
   "cell_type": "code",
   "execution_count": 1,
   "metadata": {},
   "outputs": [],
   "source": [
    "import os \n",
    "import json\n",
    "import pprint\n",
    "import tweepy\n",
    "\n",
    "#import secret\n",
    "from serializer import Serializer\n",
    "\n",
    "#Twitter API credentials\n",
    "api_key = \"qb57kzcuxez3RxyTaUEzHdzMS\"\n",
    "api_secret = \"ntm3qGSazr1suCQKTYinoTxJciChIvHQs9nPTHDWuwLPd8vVSc\"\n",
    "access_token = \"15750573-5Fk8qmqDhBXCqfYM7GnNLBUvGgOofb7mtywZs4OIC\"\n",
    "access_secret = \"9w0CXnrZbye6Pq6jlVAgVU3IlAOVmGPSsvyZGj2Ki6XBW\"\n",
    "bearer_token = \"AAAAAAAAAAAAAAAAAAAAALjZJQEAAAAAzXmqQ3tOay4wkGLRxk0OXkrCi%2Bo%3DiJEe5N5wAbEIEXJVZVktWfl0YGRAQKcvdRfzzWKZGawlzObzvB\""
   ]
  },
  {
   "cell_type": "code",
   "execution_count": 2,
   "metadata": {},
   "outputs": [
    {
     "name": "stdout",
     "output_type": "stream",
     "text": [
      "Authentication completed successfully!\n"
     ]
    }
   ],
   "source": [
    "auth = tweepy.OAuthHandler(api_key, api_secret)\n",
    "auth.set_access_token(access_token, access_secret)\n",
    "api = tweepy.API(auth, wait_on_rate_limit=True, wait_on_rate_limit_notify=True)\n",
    "if(api.verify_credentials):\n",
    "    print ('Authentication completed successfully!')\n",
    "    \n",
    "# Building serializer\n",
    "\n",
    "s = Serializer(\"followers\")"
   ]
  },
  {
   "cell_type": "code",
   "execution_count": null,
   "metadata": {},
   "outputs": [
    {
     "name": "stdout",
     "output_type": "stream",
     "text": [
      "Processing  @Miccighel_\n"
     ]
    },
    {
     "name": "stderr",
     "output_type": "stream",
     "text": [
      "Rate limit reached. Sleeping for: 893\n"
     ]
    }
   ],
   "source": [
    "users = [\"Miccighel_\"]\n",
    "\n",
    "for user in users:\n",
    "    \n",
    "    print(f\"Processing  @{user}\")\n",
    "    \n",
    "    user_followers = []\n",
    "    \n",
    "    for item in tweepy.Cursor(\n",
    "            api.followers, \n",
    "            screen_name=user, \n",
    "            skip_status=True, \n",
    "            include_user_entities=False\n",
    "    ).items():\n",
    "        user_followers.append(item._json)\n",
    "        \n",
    "        #found_follower = {\"id\": item.id,\n",
    "                      #    \"name\": item.name,\n",
    "                       #   \"screen_name\": item.screen_name,\n",
    "                        #  \"location\": item.location}\n",
    "\n",
    "        \n",
    "       # if found_follower not in user_followers:\n",
    "        #    user_followers.append(found_follower)\n",
    "            \n",
    "    print(f\"Found {len(user_followers)} followers for  @{user}\")\n",
    "    \n",
    "#serialize_json(data_folder, f\"{user}_followers.json\", user_followers)\n",
    "    s.serialize_json(f\"{user}_followers.json\", user_followers)"
   ]
  },
  {
   "cell_type": "code",
   "execution_count": 11,
   "metadata": {},
   "outputs": [
    {
     "name": "stdout",
     "output_type": "stream",
     "text": [
      "Processing  @Miccighel_\n",
      "Found 10 friends for  @Miccighel_\n",
      "Data serialized to path: followers/Miccighel__friends.json\n"
     ]
    }
   ],
   "source": [
    "for user in users:\n",
    "    \n",
    "    print(f\"Processing  @{user}\")\n",
    "    \n",
    "    user_friends = []\n",
    "    \n",
    "    for item in tweepy.Cursor(\n",
    "            api.friends, \n",
    "            screen_name=user, \n",
    "            skip_status=True, \n",
    "            include_user_entities=False\n",
    "    ).items(10):\n",
    "         user_friends.append(item._json)\n",
    "        \n",
    "\n",
    "            \n",
    "    print(f\"Found {len(user_friends)} friends for  @{user}\")\n",
    "    \n",
    "#serialize_json(data_folder, f\"{user}_followers.json\", user_followers)\n",
    "s.serialize_json(f\"{user}_friends.json\", user_friends)"
   ]
  },
  {
   "cell_type": "code",
   "execution_count": null,
   "metadata": {},
   "outputs": [],
   "source": []
  }
 ],
 "metadata": {
  "kernelspec": {
   "display_name": "Python 3",
   "language": "python",
   "name": "python3"
  },
  "language_info": {
   "codemirror_mode": {
    "name": "ipython",
    "version": 3
   },
   "file_extension": ".py",
   "mimetype": "text/x-python",
   "name": "python",
   "nbconvert_exporter": "python",
   "pygments_lexer": "ipython3",
   "version": "3.8.3"
  }
 },
 "nbformat": 4,
 "nbformat_minor": 4
}

{
 "cells": [
  {
   "cell_type": "code",
   "execution_count": null,
   "metadata": {},
   "outputs": [],
   "source": [
    "import secret\n",
    "import tweepy\n",
    "from serializer import Serializer\n",
    "%matplotlib inline\n",
    "\n",
    "consumer_key = canta_secret.key\n",
    "consumer_secret = canta_secret.secret\n",
    "bearer_token = canta_secret.bearer\n",
    "access_token = canta_secret.access_token\n",
    "access_secret = canta_secret.access_secret"
   ]
  },
  {
   "cell_type": "code",
   "execution_count": null,
   "metadata": {},
   "outputs": [],
   "source": [
    "# Authentication to Twitter API\n",
    "\n",
    "auth = tweepy.OAuthHandler(consumer_key, consumer_secret)\n",
    "auth.set_access_token(access_token, access_secret)\n",
    "api = tweepy.API(auth, wait_on_rate_limit=True, wait_on_rate_limit_notify=True)\n",
    "if api.verify_credentials:\n",
    "    print(\"Auth completed successfuly!\")\n",
    "else:\n",
    "    print(\"Issue occoured during authentication\")\n",
    "    \n",
    "    \n",
    "# Building serializer\n",
    "\n",
    "s = Serializer(\"followers\")"
   ]
  },
  {
   "cell_type": "code",
   "execution_count": null,
   "metadata": {},
   "outputs": [],
   "source": [
    "users = [\"mizzaro\", \"Kevin Roitero\"]\n",
    "\n",
    "for user in users:\n",
    "    print(f\"Processing @{user}\")\n",
    "\n",
    "    user_followers = []\n",
    "\n",
    "    for item in tweepy.Cursor(\n",
    "            api.followers,\n",
    "            screen_name=user,\n",
    "            skip_status=True,\n",
    "            include_user_entities=False\n",
    "    ).items():\n",
    "        found_follower = {\"id\": item.id,\n",
    "                          \"name\": item.name,\n",
    "                          \"screen_name\": item.screen_name,\n",
    "                          \"location\": item.location}\n",
    "\n",
    "        if found_follower not in user_followers:\n",
    "            user_followers.append(found_follower)\n",
    "\n",
    "    print(f\"Found {len(user_followers)} followers for @{user}\")\n",
    "    serialize_json(data_folder, f\"{user}_followers.json\", user_followers)"
   ]
  },
  {
   "cell_type": "code",
   "execution_count": null,
   "metadata": {},
   "outputs": [],
   "source": []
  }
 ],
 "metadata": {
  "kernelspec": {
   "display_name": "Python 3",
   "language": "python",
   "name": "python3"
  },
  "language_info": {
   "codemirror_mode": {
    "name": "ipython",
    "version": 3
   },
   "file_extension": ".py",
   "mimetype": "text/x-python",
   "name": "python",
   "nbconvert_exporter": "python",
   "pygments_lexer": "ipython3",
   "version": "3.7.9"
  }
 },
 "nbformat": 4,
 "nbformat_minor": 4
}
